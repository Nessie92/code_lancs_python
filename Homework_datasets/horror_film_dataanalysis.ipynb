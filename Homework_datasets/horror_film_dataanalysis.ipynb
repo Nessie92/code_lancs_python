{
 "cells": [
  {
   "cell_type": "code",
   "execution_count": 1,
   "metadata": {},
   "outputs": [],
   "source": [
    "import pandas as pd\n",
    "import matplotlib.pyplot as plt\n",
    "import numpy as np"
   ]
  },
  {
   "cell_type": "code",
   "execution_count": 2,
   "metadata": {},
   "outputs": [],
   "source": [
    "horror_films_df = pd.read_csv('horror_movies.csv', sep = ',')"
   ]
  },
  {
   "cell_type": "markdown",
   "metadata": {},
   "source": [
    "<h2>Getting Aquainted with the Dataset</h2>\n",
    "<p>There are a few operations we can do to work out the shape and size of the dataset</p>\n",
    "<p>Results:</p>\n",
    "<p>The data set consists of 32540 horror films</p>\n",
    "<p>For each film we have 20 items of data, listed in \"keys\"</p>"
   ]
  },
  {
   "cell_type": "code",
   "execution_count": 3,
   "metadata": {},
   "outputs": [
    {
     "data": {
      "text/plain": [
       "32540"
      ]
     },
     "execution_count": 3,
     "metadata": {},
     "output_type": "execute_result"
    }
   ],
   "source": [
    "len(horror_films_df)"
   ]
  },
  {
   "cell_type": "code",
   "execution_count": 11,
   "metadata": {},
   "outputs": [
    {
     "data": {
      "text/html": [
       "<div>\n",
       "<style scoped>\n",
       "    .dataframe tbody tr th:only-of-type {\n",
       "        vertical-align: middle;\n",
       "    }\n",
       "\n",
       "    .dataframe tbody tr th {\n",
       "        vertical-align: top;\n",
       "    }\n",
       "\n",
       "    .dataframe thead th {\n",
       "        text-align: right;\n",
       "    }\n",
       "</style>\n",
       "<table border=\"1\" class=\"dataframe\">\n",
       "  <thead>\n",
       "    <tr style=\"text-align: right;\">\n",
       "      <th></th>\n",
       "      <th>original_title</th>\n",
       "      <th>title</th>\n",
       "      <th>original_language</th>\n",
       "      <th>release_date</th>\n",
       "      <th>popularity</th>\n",
       "      <th>vote_count</th>\n",
       "      <th>vote_average</th>\n",
       "      <th>budget</th>\n",
       "      <th>revenue</th>\n",
       "      <th>runtime</th>\n",
       "      <th>status</th>\n",
       "      <th>adult</th>\n",
       "      <th>genre_names</th>\n",
       "      <th>collection</th>\n",
       "      <th>collection_name</th>\n",
       "    </tr>\n",
       "  </thead>\n",
       "  <tbody>\n",
       "    <tr>\n",
       "      <th>0</th>\n",
       "      <td>Orphan: First Kill</td>\n",
       "      <td>Orphan: First Kill</td>\n",
       "      <td>en</td>\n",
       "      <td>2022-07-27</td>\n",
       "      <td>5088.584</td>\n",
       "      <td>902</td>\n",
       "      <td>6.9</td>\n",
       "      <td>0</td>\n",
       "      <td>9572765</td>\n",
       "      <td>99</td>\n",
       "      <td>Released</td>\n",
       "      <td>False</td>\n",
       "      <td>Horror, Thriller</td>\n",
       "      <td>760193.0</td>\n",
       "      <td>Orphan Collection</td>\n",
       "    </tr>\n",
       "    <tr>\n",
       "      <th>1</th>\n",
       "      <td>Beast</td>\n",
       "      <td>Beast</td>\n",
       "      <td>en</td>\n",
       "      <td>2022-08-11</td>\n",
       "      <td>2172.338</td>\n",
       "      <td>584</td>\n",
       "      <td>7.1</td>\n",
       "      <td>0</td>\n",
       "      <td>56000000</td>\n",
       "      <td>93</td>\n",
       "      <td>Released</td>\n",
       "      <td>False</td>\n",
       "      <td>Adventure, Drama, Horror</td>\n",
       "      <td>NaN</td>\n",
       "      <td>NaN</td>\n",
       "    </tr>\n",
       "    <tr>\n",
       "      <th>2</th>\n",
       "      <td>Smile</td>\n",
       "      <td>Smile</td>\n",
       "      <td>en</td>\n",
       "      <td>2022-09-23</td>\n",
       "      <td>1863.628</td>\n",
       "      <td>114</td>\n",
       "      <td>6.8</td>\n",
       "      <td>17000000</td>\n",
       "      <td>45000000</td>\n",
       "      <td>115</td>\n",
       "      <td>Released</td>\n",
       "      <td>False</td>\n",
       "      <td>Horror, Mystery, Thriller</td>\n",
       "      <td>NaN</td>\n",
       "      <td>NaN</td>\n",
       "    </tr>\n",
       "    <tr>\n",
       "      <th>3</th>\n",
       "      <td>The Black Phone</td>\n",
       "      <td>The Black Phone</td>\n",
       "      <td>en</td>\n",
       "      <td>2022-06-22</td>\n",
       "      <td>1071.398</td>\n",
       "      <td>2736</td>\n",
       "      <td>7.9</td>\n",
       "      <td>18800000</td>\n",
       "      <td>161000000</td>\n",
       "      <td>103</td>\n",
       "      <td>Released</td>\n",
       "      <td>False</td>\n",
       "      <td>Horror, Thriller</td>\n",
       "      <td>NaN</td>\n",
       "      <td>NaN</td>\n",
       "    </tr>\n",
       "    <tr>\n",
       "      <th>4</th>\n",
       "      <td>Presencias</td>\n",
       "      <td>Presences</td>\n",
       "      <td>es</td>\n",
       "      <td>2022-09-07</td>\n",
       "      <td>1020.995</td>\n",
       "      <td>83</td>\n",
       "      <td>7.0</td>\n",
       "      <td>0</td>\n",
       "      <td>0</td>\n",
       "      <td>0</td>\n",
       "      <td>Released</td>\n",
       "      <td>False</td>\n",
       "      <td>Horror</td>\n",
       "      <td>NaN</td>\n",
       "      <td>NaN</td>\n",
       "    </tr>\n",
       "  </tbody>\n",
       "</table>\n",
       "</div>"
      ],
      "text/plain": [
       "       original_title               title original_language release_date  \\\n",
       "0  Orphan: First Kill  Orphan: First Kill                en   2022-07-27   \n",
       "1               Beast               Beast                en   2022-08-11   \n",
       "2               Smile               Smile                en   2022-09-23   \n",
       "3     The Black Phone     The Black Phone                en   2022-06-22   \n",
       "4          Presencias           Presences                es   2022-09-07   \n",
       "\n",
       "   popularity  vote_count  vote_average    budget    revenue  runtime  \\\n",
       "0    5088.584         902           6.9         0    9572765       99   \n",
       "1    2172.338         584           7.1         0   56000000       93   \n",
       "2    1863.628         114           6.8  17000000   45000000      115   \n",
       "3    1071.398        2736           7.9  18800000  161000000      103   \n",
       "4    1020.995          83           7.0         0          0        0   \n",
       "\n",
       "     status  adult                genre_names  collection    collection_name  \n",
       "0  Released  False           Horror, Thriller    760193.0  Orphan Collection  \n",
       "1  Released  False   Adventure, Drama, Horror         NaN                NaN  \n",
       "2  Released  False  Horror, Mystery, Thriller         NaN                NaN  \n",
       "3  Released  False           Horror, Thriller         NaN                NaN  \n",
       "4  Released  False                     Horror         NaN                NaN  "
      ]
     },
     "execution_count": 11,
     "metadata": {},
     "output_type": "execute_result"
    }
   ],
   "source": [
    "horror_films_df.head()"
   ]
  },
  {
   "cell_type": "code",
   "execution_count": 5,
   "metadata": {},
   "outputs": [
    {
     "data": {
      "text/plain": [
       "20"
      ]
     },
     "execution_count": 5,
     "metadata": {},
     "output_type": "execute_result"
    }
   ],
   "source": [
    "len(horror_films_df.keys())"
   ]
  },
  {
   "cell_type": "code",
   "execution_count": 6,
   "metadata": {},
   "outputs": [
    {
     "data": {
      "text/plain": [
       "Index(['id', 'original_title', 'title', 'original_language', 'overview',\n",
       "       'tagline', 'release_date', 'poster_path', 'popularity', 'vote_count',\n",
       "       'vote_average', 'budget', 'revenue', 'runtime', 'status', 'adult',\n",
       "       'backdrop_path', 'genre_names', 'collection', 'collection_name'],\n",
       "      dtype='object')"
      ]
     },
     "execution_count": 6,
     "metadata": {},
     "output_type": "execute_result"
    }
   ],
   "source": [
    "horror_films_df.keys()"
   ]
  },
  {
   "cell_type": "code",
   "execution_count": 7,
   "metadata": {},
   "outputs": [
    {
     "name": "stdout",
     "output_type": "stream",
     "text": [
      "Data Type of 'id' Column: int64\n",
      "Data Type of 'original_title' Column: object\n",
      "Data Type of 'title' Column: object\n",
      "Data Type of 'original_language' Column: object\n",
      "Data Type of 'overview' Column: object\n",
      "Data Type of 'tagline' Column: object\n",
      "Data Type of 'release_date' Column: object\n",
      "Data Type of 'poster_path' Column: object\n",
      "Data Type of 'popularity' Column: float64\n",
      "Data Type of 'vote_count' Column: int64\n",
      "Data Type of 'vote_average' Column: float64\n",
      "Data Type of 'budget' Column: int64\n",
      "Data Type of 'revenue' Column: int64\n",
      "Data Type of 'runtime' Column: int64\n",
      "Data Type of 'status' Column: object\n",
      "Data Type of 'adult' Column: bool\n",
      "Data Type of 'backdrop_path' Column: object\n",
      "Data Type of 'genre_names' Column: object\n",
      "Data Type of 'collection' Column: float64\n",
      "Data Type of 'collection_name' Column: object\n"
     ]
    }
   ],
   "source": [
    "data_types = [horror_films_df[column_name].dtype for column_name in horror_films_df.columns]\n",
    "\n",
    "for column_name, data_type in zip(horror_films_df.columns, data_types):\n",
    "    print(f\"Data Type of '{column_name}' Column: {data_type}\")"
   ]
  },
  {
   "cell_type": "code",
   "execution_count": 9,
   "metadata": {},
   "outputs": [
    {
     "data": {
      "text/plain": [
       "array(['en', 'es', 'zh', 'it', 'ru', 'ja', 'eo', 'fr', 'pl', 'ko', 'th',\n",
       "       'de', 'pt', 'tr', 'sv', 'no', 'fi', 'sr', 'mk', 'hi', 'da', 'ca',\n",
       "       'nl', 'cn', 'id', 'nb', 'is', 'tl', 'fa', 'eu', 'hu', 'bn', 'cs',\n",
       "       'ta', 'lv', 'et', 'he', 'ml', 'uk', 'te', 'ar', 'lo', 'cy', 'sh',\n",
       "       'el', 'mr', 'ms', 'kn', 'sl', 'xx', 'vi', 'gl', 'as', 'bg', 'km',\n",
       "       'af', 'ro', 'hr', 'xh', 'sk', 'ga', 'my', 'ur', 'mn', 'tw', 'sq',\n",
       "       'az', 'cr', 'ne', 'lt', 'mh', 'bs', 'fo', 'si', 'kl', 'jv', 'ig',\n",
       "       'so', 'lb', 'bo', 'kk', 'pa', 'dv', 'yi', 'gv', 'mt', 'mg', 'gu',\n",
       "       'sn', 'ky', 'su', 'ss', 'ps', 'la', 'lg', 'to', 'am'], dtype=object)"
      ]
     },
     "execution_count": 9,
     "metadata": {},
     "output_type": "execute_result"
    }
   ],
   "source": [
    "horror_films_df['original_language'].unique()"
   ]
  },
  {
   "cell_type": "code",
   "execution_count": 10,
   "metadata": {},
   "outputs": [
    {
     "data": {
      "text/plain": [
       "original_language\n",
       "en    21923\n",
       "es     1661\n",
       "ja     1639\n",
       "pt      676\n",
       "de      631\n",
       "      ...  \n",
       "az        1\n",
       "sq        1\n",
       "ga        1\n",
       "xh        1\n",
       "am        1\n",
       "Name: count, Length: 97, dtype: int64"
      ]
     },
     "execution_count": 10,
     "metadata": {},
     "output_type": "execute_result"
    }
   ],
   "source": [
    "horror_films_df['original_language'].value_counts()"
   ]
  },
  {
   "cell_type": "markdown",
   "metadata": {},
   "source": [
    "<h2>Data Cleaning</h2>"
   ]
  },
  {
   "cell_type": "code",
   "execution_count": 8,
   "metadata": {},
   "outputs": [
    {
     "data": {
      "text/html": [
       "<div>\n",
       "<style scoped>\n",
       "    .dataframe tbody tr th:only-of-type {\n",
       "        vertical-align: middle;\n",
       "    }\n",
       "\n",
       "    .dataframe tbody tr th {\n",
       "        vertical-align: top;\n",
       "    }\n",
       "\n",
       "    .dataframe thead th {\n",
       "        text-align: right;\n",
       "    }\n",
       "</style>\n",
       "<table border=\"1\" class=\"dataframe\">\n",
       "  <thead>\n",
       "    <tr style=\"text-align: right;\">\n",
       "      <th></th>\n",
       "      <th>original_title</th>\n",
       "      <th>title</th>\n",
       "      <th>original_language</th>\n",
       "      <th>release_date</th>\n",
       "      <th>popularity</th>\n",
       "      <th>vote_count</th>\n",
       "      <th>vote_average</th>\n",
       "      <th>budget</th>\n",
       "      <th>revenue</th>\n",
       "      <th>runtime</th>\n",
       "      <th>status</th>\n",
       "      <th>adult</th>\n",
       "      <th>genre_names</th>\n",
       "      <th>collection</th>\n",
       "      <th>collection_name</th>\n",
       "    </tr>\n",
       "  </thead>\n",
       "  <tbody>\n",
       "    <tr>\n",
       "      <th>0</th>\n",
       "      <td>Orphan: First Kill</td>\n",
       "      <td>Orphan: First Kill</td>\n",
       "      <td>en</td>\n",
       "      <td>2022-07-27</td>\n",
       "      <td>5088.584</td>\n",
       "      <td>902</td>\n",
       "      <td>6.9</td>\n",
       "      <td>0</td>\n",
       "      <td>9572765</td>\n",
       "      <td>99</td>\n",
       "      <td>Released</td>\n",
       "      <td>False</td>\n",
       "      <td>Horror, Thriller</td>\n",
       "      <td>760193.0</td>\n",
       "      <td>Orphan Collection</td>\n",
       "    </tr>\n",
       "    <tr>\n",
       "      <th>1</th>\n",
       "      <td>Beast</td>\n",
       "      <td>Beast</td>\n",
       "      <td>en</td>\n",
       "      <td>2022-08-11</td>\n",
       "      <td>2172.338</td>\n",
       "      <td>584</td>\n",
       "      <td>7.1</td>\n",
       "      <td>0</td>\n",
       "      <td>56000000</td>\n",
       "      <td>93</td>\n",
       "      <td>Released</td>\n",
       "      <td>False</td>\n",
       "      <td>Adventure, Drama, Horror</td>\n",
       "      <td>NaN</td>\n",
       "      <td>NaN</td>\n",
       "    </tr>\n",
       "    <tr>\n",
       "      <th>2</th>\n",
       "      <td>Smile</td>\n",
       "      <td>Smile</td>\n",
       "      <td>en</td>\n",
       "      <td>2022-09-23</td>\n",
       "      <td>1863.628</td>\n",
       "      <td>114</td>\n",
       "      <td>6.8</td>\n",
       "      <td>17000000</td>\n",
       "      <td>45000000</td>\n",
       "      <td>115</td>\n",
       "      <td>Released</td>\n",
       "      <td>False</td>\n",
       "      <td>Horror, Mystery, Thriller</td>\n",
       "      <td>NaN</td>\n",
       "      <td>NaN</td>\n",
       "    </tr>\n",
       "    <tr>\n",
       "      <th>3</th>\n",
       "      <td>The Black Phone</td>\n",
       "      <td>The Black Phone</td>\n",
       "      <td>en</td>\n",
       "      <td>2022-06-22</td>\n",
       "      <td>1071.398</td>\n",
       "      <td>2736</td>\n",
       "      <td>7.9</td>\n",
       "      <td>18800000</td>\n",
       "      <td>161000000</td>\n",
       "      <td>103</td>\n",
       "      <td>Released</td>\n",
       "      <td>False</td>\n",
       "      <td>Horror, Thriller</td>\n",
       "      <td>NaN</td>\n",
       "      <td>NaN</td>\n",
       "    </tr>\n",
       "    <tr>\n",
       "      <th>4</th>\n",
       "      <td>Presencias</td>\n",
       "      <td>Presences</td>\n",
       "      <td>es</td>\n",
       "      <td>2022-09-07</td>\n",
       "      <td>1020.995</td>\n",
       "      <td>83</td>\n",
       "      <td>7.0</td>\n",
       "      <td>0</td>\n",
       "      <td>0</td>\n",
       "      <td>0</td>\n",
       "      <td>Released</td>\n",
       "      <td>False</td>\n",
       "      <td>Horror</td>\n",
       "      <td>NaN</td>\n",
       "      <td>NaN</td>\n",
       "    </tr>\n",
       "  </tbody>\n",
       "</table>\n",
       "</div>"
      ],
      "text/plain": [
       "       original_title               title original_language release_date  \\\n",
       "0  Orphan: First Kill  Orphan: First Kill                en   2022-07-27   \n",
       "1               Beast               Beast                en   2022-08-11   \n",
       "2               Smile               Smile                en   2022-09-23   \n",
       "3     The Black Phone     The Black Phone                en   2022-06-22   \n",
       "4          Presencias           Presences                es   2022-09-07   \n",
       "\n",
       "   popularity  vote_count  vote_average    budget    revenue  runtime  \\\n",
       "0    5088.584         902           6.9         0    9572765       99   \n",
       "1    2172.338         584           7.1         0   56000000       93   \n",
       "2    1863.628         114           6.8  17000000   45000000      115   \n",
       "3    1071.398        2736           7.9  18800000  161000000      103   \n",
       "4    1020.995          83           7.0         0          0        0   \n",
       "\n",
       "     status  adult                genre_names  collection    collection_name  \n",
       "0  Released  False           Horror, Thriller    760193.0  Orphan Collection  \n",
       "1  Released  False   Adventure, Drama, Horror         NaN                NaN  \n",
       "2  Released  False  Horror, Mystery, Thriller         NaN                NaN  \n",
       "3  Released  False           Horror, Thriller         NaN                NaN  \n",
       "4  Released  False                     Horror         NaN                NaN  "
      ]
     },
     "execution_count": 8,
     "metadata": {},
     "output_type": "execute_result"
    }
   ],
   "source": [
    "horror_films_df = horror_films_df.drop(['id', 'overview', 'tagline', 'poster_path', 'backdrop_path'], axis=1)\n",
    "\n",
    "horror_films_df.head()"
   ]
  }
 ],
 "metadata": {
  "kernelspec": {
   "display_name": "Python 3",
   "language": "python",
   "name": "python3"
  },
  "language_info": {
   "codemirror_mode": {
    "name": "ipython",
    "version": 3
   },
   "file_extension": ".py",
   "mimetype": "text/x-python",
   "name": "python",
   "nbconvert_exporter": "python",
   "pygments_lexer": "ipython3",
   "version": "3.10.12"
  }
 },
 "nbformat": 4,
 "nbformat_minor": 2
}
