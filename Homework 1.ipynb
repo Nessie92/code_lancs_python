{
 "cells": [
  {
   "cell_type": "markdown",
   "metadata": {},
   "source": [
    "To complete the homework simply fill in your answers in this jupyter notebook!\n",
    "\n",
    "Remember that there are many ways in which markup cells can be used and you can add useful things such as references and images to better explain your answers.\n",
    "\n",
    "It is perfectly fine if you copy your answer from somewhere else in the internet as long as you understand the code you copied and cite the source. However, refrain from asking help for your colleagues (unless you're really struggling) as the ability to find information online is crucial for any tech role you might want to have in the future.\n",
    "\n",
    "<h1> Question 1: Multiple prints</h1>\n",
    "Create 3 different variables of different types and print their values using a single print statement."
   ]
  },
  {
   "cell_type": "code",
   "execution_count": 1,
   "metadata": {},
   "outputs": [
    {
     "name": "stdout",
     "output_type": "stream",
     "text": [
      "This is a string\n",
      "3.14159265359\n",
      "True\n"
     ]
    }
   ],
   "source": [
    "a_str = \"This is a string\"\n",
    "a_number = 3.14159265359\n",
    "a_boolean = True\n",
    "print(f\"{a_str}\\n{a_number}\\n{a_boolean}\")"
   ]
  },
  {
   "cell_type": "markdown",
   "metadata": {},
   "source": [
    "<h1> Question 2: Data structures</h1>\n",
    "Create two variables containing each a nested list and a nested dictionary and demonstrate how to access specific items of it."
   ]
  },
  {
   "cell_type": "code",
   "execution_count": 46,
   "metadata": {},
   "outputs": [
    {
     "name": "stdout",
     "output_type": "stream",
     "text": [
      "5 Morecambe\n"
     ]
    }
   ],
   "source": [
    "a_nested_list = [[1,2,3],[4,5,6],[7,8,9]]\n",
    "a_nested_dic = {\"Person 1\":\n",
    "                    {\"name\": \"John\",\n",
    "                    \"age\" : 32,\n",
    "                    \"Hometown\" : \"Lancaster\"},\n",
    "                \"Person 2\":\n",
    "                    {\"name\": \"Mary\",\n",
    "                    \"age\" : 24,\n",
    "                    \"Hometown\" : \"Morecambe\"},\n",
    "                \"Person 3\":\n",
    "                    {\"name\": \"Emmanuel\",\n",
    "                    \"age\" : 65,\n",
    "                    \"Hometown\" : \"Tblisi\"}\n",
    "                }\n",
    "\n",
    "take_item_1_1 = a_nested_list[1][1]\n",
    "person_2_hometown = a_nested_dic[\"Person 2\"][\"Hometown\"]\n",
    "print(take_item_1_1,person_2_hometown)"
   ]
  },
  {
   "cell_type": "markdown",
   "metadata": {},
   "source": [
    "Now consider the following list,"
   ]
  },
  {
   "cell_type": "code",
   "execution_count": 12,
   "metadata": {},
   "outputs": [
    {
     "name": "stdout",
     "output_type": "stream",
     "text": [
      "[1, 2, 3, 4]\n",
      "[2, 4, 6, 8]\n",
      "[3, 6, 9]\n",
      "This is my list:\n",
      "0. 1\n",
      "1. 2\n",
      "2. 3\n",
      "3. 4\n",
      "4. 5\n",
      "5. 6\n",
      "6. 7\n",
      "7. 8\n",
      "8. 9\n"
     ]
    }
   ],
   "source": [
    "a_list = [1,2,3,4,5,6,7,8,9]\n",
    "sliced_list = a_list[:4]\n",
    "print(sliced_list)\n",
    "even_numbers = [number for number in a_list if number % 2 == 0]\n",
    "print(even_numbers)\n",
    "multiples_of_3 = [number for number in a_list if number % 3 == 0]\n",
    "print(multiples_of_3)\n",
    "print(\"This is my list:\")\n",
    "for i, item in enumerate(a_list):\n",
    "    #print(f\"...this is the next item '{item}'\")\n",
    "    print(f\"{i}. {item}\")"
   ]
  },
  {
   "cell_type": "markdown",
   "metadata": {},
   "source": [
    "1 - slice this list (by index) to contain only the numbers smaller than 5; <br>\n",
    "2 - make a loop to create a new list containing only the EVEN numbers of this list (bonus point if you use a list comprehension!!);<br>\n",
    "3 - make a loop to create a new list containing only the numbers that are multiples of 3;<br>\n",
    "Bonus - make a loop that will print every item on the list inside a sentence using a f-string."
   ]
  },
  {
   "cell_type": "markdown",
   "metadata": {},
   "source": [
    "<h1>Question 3: Creating functions</h1>\n",
    "\n",
    "Create a function that takes a list of numbers and convert them into strings. (bonus point if you use a list comprehension!!)"
   ]
  },
  {
   "cell_type": "code",
   "execution_count": 4,
   "metadata": {},
   "outputs": [
    {
     "name": "stdout",
     "output_type": "stream",
     "text": [
      "['23', '46', '67', '89', '91', '99', '102']\n",
      "23,46,67,89,91,99,102\n"
     ]
    }
   ],
   "source": [
    "#This is my answer + an example\n",
    "\n",
    "example_list = [23,46,67,89,91,99,102]\n",
    "\n",
    "def convert_list_of_ints_to_list_of_strings(a_list): #This function coverts the integers into a list of strings\n",
    "    numbers_as_strings = [str(item) for item in a_list]\n",
    "    return numbers_as_strings\n",
    "\n",
    "def convert_list_of_ints_to_a_string(a_list): #This function converts the list of strings into one single string\n",
    "    string_of_num = \",\".join(convert_list_of_ints_to_list_of_strings(a_list))\n",
    "    return string_of_num\n",
    "\n",
    "print(convert_list_of_ints_to_list_of_strings(example_list))\n",
    "print(convert_list_of_ints_to_a_string(example_list))"
   ]
  },
  {
   "cell_type": "code",
   "execution_count": 9,
   "metadata": {},
   "outputs": [
    {
     "data": {
      "text/plain": [
       "'1'"
      ]
     },
     "execution_count": 9,
     "metadata": {},
     "output_type": "execute_result"
    }
   ],
   "source": [
    "variable = 1\n",
    "str(variable)"
   ]
  },
  {
   "cell_type": "code",
   "execution_count": 11,
   "metadata": {},
   "outputs": [],
   "source": [
    "yet_another_list = []"
   ]
  },
  {
   "cell_type": "code",
   "execution_count": 12,
   "metadata": {},
   "outputs": [
    {
     "data": {
      "text/plain": [
       "[]"
      ]
     },
     "execution_count": 12,
     "metadata": {},
     "output_type": "execute_result"
    }
   ],
   "source": [
    "yet_another_list"
   ]
  },
  {
   "cell_type": "code",
   "execution_count": 13,
   "metadata": {},
   "outputs": [],
   "source": [
    "yet_another_list.append('cat')"
   ]
  },
  {
   "cell_type": "code",
   "execution_count": 14,
   "metadata": {},
   "outputs": [
    {
     "data": {
      "text/plain": [
       "['cat']"
      ]
     },
     "execution_count": 14,
     "metadata": {},
     "output_type": "execute_result"
    }
   ],
   "source": [
    "yet_another_list"
   ]
  },
  {
   "cell_type": "code",
   "execution_count": null,
   "metadata": {},
   "outputs": [],
   "source": []
  },
  {
   "cell_type": "code",
   "execution_count": 15,
   "metadata": {},
   "outputs": [],
   "source": [
    "def numberToString(the_list):\n",
    "    another_list = []\n",
    "    \n",
    "    for item in the_list:    \n",
    "        converted_item = str(item)\n",
    "        another_list.append(converted_item)\n",
    "        \n",
    "    return(another_list)"
   ]
  },
  {
   "cell_type": "code",
   "execution_count": null,
   "metadata": {},
   "outputs": [],
   "source": []
  },
  {
   "cell_type": "code",
   "execution_count": 16,
   "metadata": {},
   "outputs": [
    {
     "data": {
      "text/plain": [
       "['1', '2', '3', '4', '5']"
      ]
     },
     "execution_count": 16,
     "metadata": {},
     "output_type": "execute_result"
    }
   ],
   "source": [
    "my_list = [1,2,3,4,5]\n",
    "\n",
    "numberToString(the_list=my_list)"
   ]
  },
  {
   "cell_type": "code",
   "execution_count": 20,
   "metadata": {},
   "outputs": [
    {
     "data": {
      "text/plain": [
       "['1', '2', '3', '4', '5']"
      ]
     },
     "execution_count": 20,
     "metadata": {},
     "output_type": "execute_result"
    }
   ],
   "source": [
    "new_list = [str(number) for number in my_list]\n",
    "new_list"
   ]
  },
  {
   "cell_type": "code",
   "execution_count": 19,
   "metadata": {},
   "outputs": [
    {
     "data": {
      "text/plain": [
       "['0', '1', '2', '3', '4', '5', '6', '7', '8', '9']"
      ]
     },
     "execution_count": 19,
     "metadata": {},
     "output_type": "execute_result"
    }
   ],
   "source": [
    "new_list = [str(number) for number in range(10)]\n",
    "new_list"
   ]
  },
  {
   "cell_type": "markdown",
   "metadata": {},
   "source": [
    "Create a small calculator. The function should pick two numbers and perform one of four mathematical operations with it (sum/subtraction, division, multiplication, exponents). The desired operation should be an option (hint: what IF the user wants to do a sum?)\n",
    "\n",
    "Bonus: Make a function that can pick ANY number of numbers."
   ]
  },
  {
   "cell_type": "code",
   "execution_count": 44,
   "metadata": {},
   "outputs": [
    {
     "name": "stdout",
     "output_type": "stream",
     "text": [
      "30\n"
     ]
    }
   ],
   "source": [
    "def calculator(num_list, operator_list):\n",
    "    if len(num_list) != len(operator_list) + 1:\n",
    "        raise ValueError(\"Something's wrong here. Your number list should have one more element than your operator list.\")\n",
    "\n",
    "    result = num_list[0]\n",
    "\n",
    "    for number, operator in zip(num_list[1:], operator_list):\n",
    "        if operator == '+':\n",
    "            result += number\n",
    "        elif operator == '-':\n",
    "            result -= number\n",
    "        elif operator == '*':\n",
    "            result *= number\n",
    "        elif operator == '/':\n",
    "            if number == 0:\n",
    "                raise ValueError(\"I'm not dividing by zero, not after last time.\")\n",
    "            result /= number\n",
    "        else:\n",
    "            raise ValueError(f\"I don't understand what this operator is supposed to be: {operator}\")\n",
    "\n",
    "    return result\n",
    "\n",
    "number_list = [5,5,4,5]\n",
    "operator_list = ['+', '-', '*']\n",
    "result = calculator(number_list, operator_list)\n",
    "print(result)"
   ]
  },
  {
   "cell_type": "markdown",
   "metadata": {},
   "source": [
    "Create a function that check if a number is within a list of numbers."
   ]
  },
  {
   "cell_type": "code",
   "execution_count": 25,
   "metadata": {},
   "outputs": [
    {
     "name": "stdout",
     "output_type": "stream",
     "text": [
      "sorry, no 4 in this list\n"
     ]
    }
   ],
   "source": [
    "\n",
    "def check_num(num_list,num_select):\n",
    "    if num_select in num_list:\n",
    "        print(f\"yes number {num_select} is there\")\n",
    "    else:\n",
    "        print(f\"sorry, no {num_select} in this list\")\n",
    "#example\n",
    "num_list = [14,15,21,25,34,32,6,78,102,1]\n",
    "num_select = int(input(\"Enter the number you wish to search for: \"))\n",
    "check_num(num_list,num_select)\n"
   ]
  },
  {
   "cell_type": "markdown",
   "metadata": {},
   "source": [
    "Bonus: similar to the item above, create a function that checks if a string contains a given substring, e.g. 'I have a cat' contains the string sequence 'cat' or 'ave'."
   ]
  },
  {
   "cell_type": "code",
   "execution_count": 26,
   "metadata": {},
   "outputs": [
    {
     "name": "stdout",
     "output_type": "stream",
     "text": [
      "Yes 'boy' is found in 'Hello boys and girls'\n"
     ]
    }
   ],
   "source": [
    "def find_substring(string, substring):\n",
    "    if substring in string:\n",
    "        print(f\"Yes '{substring}' is found in '{string}'\")\n",
    "    else:\n",
    "        print(f\"sorry '{substring}' not found\")\n",
    "#example\n",
    "string = 'Hello boys and girls'\n",
    "substring = input(\"What substring are you looking for: \")\n",
    "find_substring(string, substring)"
   ]
  },
  {
   "cell_type": "markdown",
   "metadata": {},
   "source": [
    "Bonus: create a function that given the initial speed of a projectile that is thrown at 90 degrees will calculate how much time the projectile will take to get back to the initial altitude. (yes you're expected to disregard air resistence)"
   ]
  },
  {
   "cell_type": "code",
   "execution_count": 27,
   "metadata": {},
   "outputs": [
    {
     "name": "stdout",
     "output_type": "stream",
     "text": [
      "20.38735983690112\n"
     ]
    }
   ],
   "source": [
    "def time_to_initial_altitude(initial_vel):\n",
    "    acceleration_from_grav = 9.81\n",
    "    time_to_max_height = initial_vel / acceleration_from_grav\n",
    "    total_time = 2 * time_to_max_height\n",
    "    return total_time\n",
    "\n",
    "print(time_to_initial_altitude(100)) #example"
   ]
  },
  {
   "cell_type": "markdown",
   "metadata": {},
   "source": [
    "<h1>solve these questions...or ELSE</h1>\n",
    "\n",
    "Why the nested if statement below doesn't only produce the first print? Can you modify it so it produces the desired output?"
   ]
  },
  {
   "cell_type": "code",
   "execution_count": 18,
   "metadata": {},
   "outputs": [
    {
     "name": "stdout",
     "output_type": "stream",
     "text": [
      "Yeeeey!\n"
     ]
    }
   ],
   "source": [
    "food = 'Pizza'\n",
    "drinks = 'Beer'\n",
    "\n",
    "if food == 'Pizza' and drinks == 'Beer':\n",
    "    print('Yeeeey!')\n",
    "elif food == 'Pizza' and drinks != 'Beer':\n",
    "    print('Yey.')\n",
    "elif food != 'Pizza' and drinks == 'Beer':\n",
    "    print('Yey!')\n",
    "else:\n",
    "    print('.....???')"
   ]
  },
  {
   "cell_type": "markdown",
   "metadata": {},
   "source": [
    "<h1> Debugging </h1>\n",
    "None of the blocks of code below work. Your task is to make them work (if possible!) and add markup cells (or comments) explaining why they don't work."
   ]
  },
  {
   "cell_type": "markdown",
   "metadata": {},
   "source": [
    "print(\"Is this working?\")"
   ]
  },
  {
   "cell_type": "code",
   "execution_count": 19,
   "metadata": {},
   "outputs": [
    {
     "name": "stdout",
     "output_type": "stream",
     "text": [
      "does this work?\n"
     ]
    }
   ],
   "source": [
    "print(\"does this work?\")\n",
    "\n",
    "#the print command was commented out"
   ]
  },
  {
   "cell_type": "code",
   "execution_count": 30,
   "metadata": {},
   "outputs": [
    {
     "name": "stdout",
     "output_type": "stream",
     "text": [
      "about now?\n"
     ]
    }
   ],
   "source": [
    "print('about now?')\n",
    "      \n",
    "#the string that you want to print was between two different types of quote marks it should be \"\" or '' but not both"
   ]
  },
  {
   "cell_type": "code",
   "execution_count": 31,
   "metadata": {},
   "outputs": [
    {
     "name": "stdout",
     "output_type": "stream",
     "text": [
      "Today on a scale from 1 to 10 I am feeling... 10\n"
     ]
    }
   ],
   "source": [
    "#should separate variables with comma\n",
    "\n",
    "text_variable = \"Today on a scale from 1 to 10 I am feeling...\"\n",
    "my_mood = 10\n",
    "print(text_variable, my_mood)"
   ]
  },
  {
   "cell_type": "code",
   "execution_count": 34,
   "metadata": {},
   "outputs": [
    {
     "name": "stdout",
     "output_type": "stream",
     "text": [
      "Today on a scale from 1 to 10 I am feeling... 10\n"
     ]
    }
   ],
   "source": [
    "#you can't concatinate a string with an integer usign +, to make it work using the + operator you need to\n",
    "#convert the integer variable to a string first or just use a coma\n",
    "\n",
    "text_variable = \"Today on a scale from 1 to 10 I am feeling...\"\n",
    "my_mood = 10\n",
    "print(text_variable + str(my_mood)) #Yep there are ways to make it work with a + operator too!\n",
    "#print(text_variable,my_mood) #This also works"
   ]
  },
  {
   "cell_type": "code",
   "execution_count": 35,
   "metadata": {},
   "outputs": [
    {
     "name": "stdout",
     "output_type": "stream",
     "text": [
      "value 2\n"
     ]
    }
   ],
   "source": [
    "#The keys need to be strings not variables\n",
    "\n",
    "a_dictionary = {\"item1\": 'Value 1',\n",
    "                \"item2\": 'value 2',}\n",
    "\n",
    "print(a_dictionary['item2'])"
   ]
  },
  {
   "cell_type": "code",
   "execution_count": 36,
   "metadata": {},
   "outputs": [
    {
     "data": {
      "text/plain": [
       "True"
      ]
     },
     "execution_count": 36,
     "metadata": {},
     "output_type": "execute_result"
    }
   ],
   "source": [
    "#you want to use the == sign, not =\n",
    "\n",
    "1 == 1 # Should return True"
   ]
  },
  {
   "cell_type": "code",
   "execution_count": 38,
   "metadata": {},
   "outputs": [
    {
     "name": "stdout",
     "output_type": "stream",
     "text": [
      "Clap your hands\n"
     ]
    }
   ],
   "source": [
    "# Why isn't the outcome 'Clap your hands?' Because it's case sensitive so the strings need to be the same case to work\n",
    "mood = 'happy'\n",
    "if mood == 'happy':\n",
    "    print('Clap your hands')\n",
    "else:\n",
    "    print('...do I look like I have this one figured out?')"
   ]
  },
  {
   "cell_type": "code",
   "execution_count": 39,
   "metadata": {},
   "outputs": [
    {
     "name": "stdout",
     "output_type": "stream",
     "text": [
      "a word another word\n"
     ]
    }
   ],
   "source": [
    "#contents of the function need to be indented below the function definition\n",
    "\n",
    "def printerfunction(x,y):\n",
    "    print(x,y)\n",
    "\n",
    "printerfunction(\"a word\", \"another word\")"
   ]
  },
  {
   "cell_type": "code",
   "execution_count": 40,
   "metadata": {},
   "outputs": [
    {
     "name": "stdout",
     "output_type": "stream",
     "text": [
      "Clap your hands\n"
     ]
    }
   ],
   "source": [
    "# bonus/annoying round, why is this crashing? \n",
    "#the same as before, it's case sensitive \n",
    "mood = 'happy'\n",
    "if mood == 'happy':\n",
    "   print('Clap your hands')\n",
    "else:\n",
    "    print('...do I look like I have this one figured out?')"
   ]
  }
 ],
 "metadata": {
  "kernelspec": {
   "display_name": "Python 3 (ipykernel)",
   "language": "python",
   "name": "python3"
  },
  "language_info": {
   "codemirror_mode": {
    "name": "ipython",
    "version": 3
   },
   "file_extension": ".py",
   "mimetype": "text/x-python",
   "name": "python",
   "nbconvert_exporter": "python",
   "pygments_lexer": "ipython3",
   "version": "3.10.12"
  }
 },
 "nbformat": 4,
 "nbformat_minor": 4
}
